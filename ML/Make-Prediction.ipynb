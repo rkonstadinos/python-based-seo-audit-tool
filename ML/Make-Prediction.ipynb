{
 "cells": [
  {
   "cell_type": "code",
   "execution_count": 5,
   "id": "c6cff8fa",
   "metadata": {},
   "outputs": [
    {
     "name": "stdout",
     "output_type": "stream",
     "text": [
      "Predicted Backlinks: 1937815\n",
      "Predicted LinkingDomains: 3701\n"
     ]
    }
   ],
   "source": [
    "import pandas as pd\n",
    "from sklearn.ensemble import RandomForestRegressor\n",
    "from sklearn.model_selection import train_test_split\n",
    "from sklearn.metrics import mean_squared_error\n",
    "import joblib\n",
    "\n",
    "# Load the models from files\n",
    "rf1 = joblib.load('da-to-backlinks.joblib')\n",
    "rf2 = joblib.load('da-to-linking-domains.joblib')\n",
    "\n",
    "# Make a prediction for a new data point\n",
    "new_data = pd.DataFrame({'DA': [50]})\n",
    "backlinks_pred = rf1.predict(new_data)[0]\n",
    "linkingdomains_pred = rf2.predict(new_data)[0]\n",
    "print(f'Predicted Backlinks: {backlinks_pred:.0f}')\n",
    "print(f'Predicted LinkingDomains: {linkingdomains_pred:.0f}')"
   ]
  },
  {
   "cell_type": "code",
   "execution_count": null,
   "id": "c385cc17",
   "metadata": {},
   "outputs": [],
   "source": []
  }
 ],
 "metadata": {
  "kernelspec": {
   "display_name": "Python 3 (ipykernel)",
   "language": "python",
   "name": "python3"
  },
  "language_info": {
   "codemirror_mode": {
    "name": "ipython",
    "version": 3
   },
   "file_extension": ".py",
   "mimetype": "text/x-python",
   "name": "python",
   "nbconvert_exporter": "python",
   "pygments_lexer": "ipython3",
   "version": "3.9.13"
  }
 },
 "nbformat": 4,
 "nbformat_minor": 5
}
