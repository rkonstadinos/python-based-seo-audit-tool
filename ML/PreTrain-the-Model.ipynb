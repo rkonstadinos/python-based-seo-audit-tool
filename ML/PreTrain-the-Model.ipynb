{
 "cells": [
  {
   "cell_type": "code",
   "execution_count": 6,
   "id": "e992939e",
   "metadata": {},
   "outputs": [
    {
     "name": "stdout",
     "output_type": "stream",
     "text": [
      "MSE for Backlinks: 173331255962014.66\n",
      "MSE for LinkingDomains: 1115404047.18\n",
      "Predicted Backlinks: 8\n",
      "Predicted LinkingDomains: 3\n"
     ]
    }
   ],
   "source": [
    "import pandas as pd\n",
    "from sklearn.ensemble import RandomForestRegressor\n",
    "from sklearn.model_selection import train_test_split\n",
    "from sklearn.metrics import mean_squared_error\n",
    "import joblib\n",
    "\n",
    "# Load the data from CSV file\n",
    "data = pd.read_csv('Dataset.csv')\n",
    "\n",
    "# Preprocess the data\n",
    "X = data[['DA']]\n",
    "y1 = data['Backlinks']\n",
    "y2 = data['LinkingDomains']\n",
    "\n",
    "# Split the data into training and testing sets\n",
    "X_train, X_test, y1_train, y1_test, y2_train, y2_test = train_test_split(X, y1, y2, test_size=0.2, random_state=42)\n",
    "\n",
    "# Train a Random Forest model for Backlinks\n",
    "rf1 = RandomForestRegressor(n_estimators=100, random_state=42)\n",
    "rf1.fit(X_train, y1_train)\n",
    "\n",
    "# Train a Random Forest model for LinkingDomains\n",
    "rf2 = RandomForestRegressor(n_estimators=100, random_state=42)\n",
    "rf2.fit(X_train, y2_train)\n",
    "\n",
    "# Evaluate the models on the testing set\n",
    "y1_pred = rf1.predict(X_test)\n",
    "y2_pred = rf2.predict(X_test)\n",
    "mse1 = mean_squared_error(y1_test, y1_pred)\n",
    "mse2 = mean_squared_error(y2_test, y2_pred)\n",
    "print(f'MSE for Backlinks: {mse1:.2f}')\n",
    "print(f'MSE for LinkingDomains: {mse2:.2f}')\n",
    "\n",
    "# Save the models to files\n",
    "joblib.dump(rf1, 'da-to-backlinks.joblib')\n",
    "joblib.dump(rf2, 'da-to-linking-domains.joblib')\n",
    "\n",
    "# Load the models from files\n",
    "rf1 = joblib.load('da-to-backlinks.joblib')\n",
    "rf2 = joblib.load('da-to-linking-domains.joblib')\n",
    "\n",
    "# Make a prediction for a new data point\n",
    "new_data = pd.DataFrame({'DA': [2]})\n",
    "backlinks_pred = rf1.predict(new_data)[0]\n",
    "linkingdomains_pred = rf2.predict(new_data)[0]\n",
    "print(f'Predicted Backlinks: {backlinks_pred:.0f}')\n",
    "print(f'Predicted LinkingDomains: {linkingdomains_pred:.0f}')\n"
   ]
  },
  {
   "cell_type": "code",
   "execution_count": null,
   "id": "623aa18c",
   "metadata": {},
   "outputs": [],
   "source": []
  }
 ],
 "metadata": {
  "kernelspec": {
   "display_name": "Python 3 (ipykernel)",
   "language": "python",
   "name": "python3"
  },
  "language_info": {
   "codemirror_mode": {
    "name": "ipython",
    "version": 3
   },
   "file_extension": ".py",
   "mimetype": "text/x-python",
   "name": "python",
   "nbconvert_exporter": "python",
   "pygments_lexer": "ipython3",
   "version": "3.9.13"
  }
 },
 "nbformat": 4,
 "nbformat_minor": 5
}
